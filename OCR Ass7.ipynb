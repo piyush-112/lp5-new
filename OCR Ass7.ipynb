{
 "cells": [
  {
   "cell_type": "code",
   "execution_count": 1,
   "id": "f40fff88",
   "metadata": {},
   "outputs": [],
   "source": [
    "import numpy as np\n",
    "from tensorflow.keras.models import Sequential\n",
    "from tensorflow.keras.layers import Dense, Dropout\n",
    "from tensorflow.keras.optimizers import RMSprop\n",
    "from tensorflow.keras.datasets import mnist\n",
    "import matplotlib.pyplot as plt\n",
    "from sklearn import metrics"
   ]
  },
  {
   "cell_type": "code",
   "execution_count": 2,
   "id": "b5547cb4",
   "metadata": {},
   "outputs": [],
   "source": [
    "(x_train, y_train), (x_test, y_test) = mnist.load_data()"
   ]
  },
  {
   "cell_type": "code",
   "execution_count": 3,
   "id": "4b501618",
   "metadata": {},
   "outputs": [
    {
     "data": {
      "image/png": "[encoded data removed]",
      "text/plain": [
       "<Figure size 640x480 with 1 Axes>"
      ]
     },
     "metadata": {},
     "output_type": "display_data"
    }
   ],
   "source": [
    "plt.imshow(x_train[0], cmap='gray') # imshow() function which simply displays an image.\n",
    "plt.show() # cmap is responsible for mapping a specific colormap to the values found in the array that you passed as the first argument.\n"
   ]
  },
  {
   "cell_type": "code",
   "execution_count": 4,
   "id": "0849f812",
   "metadata": {},
   "outputs": [
    {
     "name": "stdout",
     "output_type": "stream",
     "text": [
      "[[  0   0   0   0   0   0   0   0   0   0   0   0   0   0   0   0   0   0\n",
      "    0   0   0   0   0   0   0   0   0   0]\n",
      " [  0   0   0   0   0   0   0   0   0   0   0   0   0   0   0   0   0   0\n",
      "    0   0   0   0   0   0   0   0   0   0]\n",
      " [  0   0   0   0   0   0   0   0   0   0   0   0   0   0   0   0   0   0\n",
      "    0   0   0   0   0   0   0   0   0   0]\n",
      " [  0   0   0   0   0   0   0   0   0   0   0   0   0   0   0   0   0   0\n",
      "    0   0   0   0   0   0   0   0   0   0]\n",
      " [  0   0   0   0   0   0   0   0   0   0   0   0   0   0   0   0   0   0\n",
      "    0   0   0   0   0   0   0   0   0   0]\n",
      " [  0   0   0   0   0   0   0   0   0   0   0   0   3  18  18  18 126 136\n",
      "  175  26 166 255 247 127   0   0   0   0]\n",
      " [  0   0   0   0   0   0   0   0  30  36  94 154 170 253 253 253 253 253\n",
      "  225 172 253 242 195  64   0   0   0   0]\n",
      " [  0   0   0   0   0   0   0  49 238 253 253 253 253 253 253 253 253 251\n",
      "   93  82  82  56  39   0   0   0   0   0]\n",
      " [  0   0   0   0   0   0   0  18 219 253 253 253 253 253 198 182 247 241\n",
      "    0   0   0   0   0   0   0   0   0   0]\n",
      " [  0   0   0   0   0   0   0   0  80 156 107 253 253 205  11   0  43 154\n",
      "    0   0   0   0   0   0   0   0   0   0]\n",
      " [  0   0   0   0   0   0   0   0   0  14   1 154 253  90   0   0   0   0\n",
      "    0   0   0   0   0   0   0   0   0   0]\n",
      " [  0   0   0   0   0   0   0   0   0   0   0 139 253 190   2   0   0   0\n",
      "    0   0   0   0   0   0   0   0   0   0]\n",
      " [  0   0   0   0   0   0   0   0   0   0   0  11 190 253  70   0   0   0\n",
      "    0   0   0   0   0   0   0   0   0   0]\n",
      " [  0   0   0   0   0   0   0   0   0   0   0   0  35 241 225 160 108   1\n",
      "    0   0   0   0   0   0   0   0   0   0]\n",
      " [  0   0   0   0   0   0   0   0   0   0   0   0   0  81 240 253 253 119\n",
      "   25   0   0   0   0   0   0   0   0   0]\n",
      " [  0   0   0   0   0   0   0   0   0   0   0   0   0   0  45 186 253 253\n",
      "  150  27   0   0   0   0   0   0   0   0]\n",
      " [  0   0   0   0   0   0   0   0   0   0   0   0   0   0   0  16  93 252\n",
      "  253 187   0   0   0   0   0   0   0   0]\n",
      " [  0   0   0   0   0   0   0   0   0   0   0   0   0   0   0   0   0 249\n",
      "  253 249  64   0   0   0   0   0   0   0]\n",
      " [  0   0   0   0   0   0   0   0   0   0   0   0   0   0  46 130 183 253\n",
      "  253 207   2   0   0   0   0   0   0   0]\n",
      " [  0   0   0   0   0   0   0   0   0   0   0   0  39 148 229 253 253 253\n",
      "  250 182   0   0   0   0   0   0   0   0]\n",
      " [  0   0   0   0   0   0   0   0   0   0  24 114 221 253 253 253 253 201\n",
      "   78   0   0   0   0   0   0   0   0   0]\n",
      " [  0   0   0   0   0   0   0   0  23  66 213 253 253 253 253 198  81   2\n",
      "    0   0   0   0   0   0   0   0   0   0]\n",
      " [  0   0   0   0   0   0  18 171 219 253 253 253 253 195  80   9   0   0\n",
      "    0   0   0   0   0   0   0   0   0   0]\n",
      " [  0   0   0   0  55 172 226 253 253 253 253 244 133  11   0   0   0   0\n",
      "    0   0   0   0   0   0   0   0   0   0]\n",
      " [  0   0   0   0 136 253 253 253 212 135 132  16   0   0   0   0   0   0\n",
      "    0   0   0   0   0   0   0   0   0   0]\n",
      " [  0   0   0   0   0   0   0   0   0   0   0   0   0   0   0   0   0   0\n",
      "    0   0   0   0   0   0   0   0   0   0]\n",
      " [  0   0   0   0   0   0   0   0   0   0   0   0   0   0   0   0   0   0\n",
      "    0   0   0   0   0   0   0   0   0   0]\n",
      " [  0   0   0   0   0   0   0   0   0   0   0   0   0   0   0   0   0   0\n",
      "    0   0   0   0   0   0   0   0   0   0]]\n"
     ]
    }
   ],
   "source": [
    "print(x_train[0])"
   ]
  },
  {
   "cell_type": "code",
   "execution_count": 5,
   "id": "04579987",
   "metadata": {},
   "outputs": [
    {
     "name": "stdout",
     "output_type": "stream",
     "text": [
      "X_train shape (60000, 28, 28)\n",
      "y_train shape (60000,)\n",
      "X_test shape (10000, 28, 28)\n",
      "y_test shape (10000,)\n"
     ]
    }
   ],
   "source": [
    "print(\"X_train shape\", x_train.shape)\n",
    "print(\"y_train shape\", y_train.shape)\n",
    "print(\"X_test shape\", x_test.shape)\n",
    "print(\"y_test shape\", y_test.shape)"
   ]
  },
  {
   "cell_type": "code",
   "execution_count": 6,
   "id": "f8532735",
   "metadata": {},
   "outputs": [],
   "source": [
    "x_train = x_train.reshape(60000, 784)\n",
    "x_test = x_test.reshape(10000, 784)\n",
    "x_train = x_train.astype('float32') # use 32-bit precision when training a neural network, so at one point the training data will have tc \n",
    "x_test = x_test.astype('float32')\n",
    "x_train /= 255 # Each image has Intensity from 0 to 255\n",
    "x_test /= 255\n"
   ]
  },
  {
   "cell_type": "code",
   "execution_count": 7,
   "id": "6e4cc7c3",
   "metadata": {},
   "outputs": [],
   "source": [
    "num_classes = 10\n",
    "y_train = np.eye(num_classes)[y_train] # Return a 2-D array with ones on the diagonal and zeros elsewhere.\n",
    "y_test = np.eye(num_classes)[y_test] # f your particular categories is present then it mark as 1 else 0 in remain row\n"
   ]
  },
  {
   "cell_type": "code",
   "execution_count": 8,
   "id": "39c71c37",
   "metadata": {},
   "outputs": [],
   "source": [
    "#main starts from here\n",
    "\n",
    "#Define the model architecture\n",
    "model = Sequential()\n",
    "model.add(Dense(512, activation='relu', input_shape=(784,))) # The input_shape argument is passed to the foremost layer. It comprises of \n",
    "model.add(Dropout(0.2)) # DROP OUT RATIO 20%\n",
    "model.add(Dense(512, activation='relu')) #returns a sequence of vectors of dimension 512\n",
    "model. add(Dropout(0.2))\n",
    "model.add(Dense(num_classes, activation='softmax'))\n"
   ]
  },
  {
   "cell_type": "code",
   "execution_count": 9,
   "id": "e6ad77f0",
   "metadata": {},
   "outputs": [],
   "source": [
    "#Compile the model\n",
    "model.compile(loss='categorical_crossentropy', # for a multi-class classification problem\n",
    "              optimizer=RMSprop(),\n",
    "              metrics=['accuracy'])\n"
   ]
  },
  {
   "cell_type": "code",
   "execution_count": 10,
   "id": "43897f91",
   "metadata": {},
   "outputs": [
    {
     "name": "stdout",
     "output_type": "stream",
     "text": [
      "Epoch 1/20\n",
      "469/469 [==============================] - 6s 12ms/step - loss: 0.2534 - accuracy: 0.9227 - val_loss: 0.1077 - val_accuracy: 0.9662\n",
      "Epoch 2/20\n",
      "469/469 [==============================] - 5s 12ms/step - loss: 0.1065 - accuracy: 0.9678 - val_loss: 0.0961 - val_accuracy: 0.9689\n",
      "Epoch 3/20\n",
      "469/469 [==============================] - 6s 12ms/step - loss: 0.0749 - accuracy: 0.9766 - val_loss: 0.0725 - val_accuracy: 0.9769\n",
      "Epoch 4/20\n",
      "469/469 [==============================] - 6s 13ms/step - loss: 0.0575 - accuracy: 0.9827 - val_loss: 0.0744 - val_accuracy: 0.9788\n",
      "Epoch 5/20\n",
      "469/469 [==============================] - 6s 12ms/step - loss: 0.0490 - accuracy: 0.9845 - val_loss: 0.0753 - val_accuracy: 0.9797\n",
      "Epoch 6/20\n",
      "469/469 [==============================] - 5s 10ms/step - loss: 0.0405 - accuracy: 0.9872 - val_loss: 0.0526 - val_accuracy: 0.9847\n",
      "Epoch 7/20\n",
      "469/469 [==============================] - 5s 10ms/step - loss: 0.0352 - accuracy: 0.9888 - val_loss: 0.0649 - val_accuracy: 0.9811\n",
      "Epoch 8/20\n",
      "469/469 [==============================] - 4s 10ms/step - loss: 0.0290 - accuracy: 0.9909 - val_loss: 0.0633 - val_accuracy: 0.9858\n",
      "Epoch 9/20\n",
      "469/469 [==============================] - 5s 10ms/step - loss: 0.0254 - accuracy: 0.9920 - val_loss: 0.0634 - val_accuracy: 0.9846\n",
      "Epoch 10/20\n",
      "469/469 [==============================] - 5s 10ms/step - loss: 0.0218 - accuracy: 0.9934 - val_loss: 0.0664 - val_accuracy: 0.9851\n",
      "Epoch 11/20\n",
      "469/469 [==============================] - 5s 10ms/step - loss: 0.0210 - accuracy: 0.9928 - val_loss: 0.0638 - val_accuracy: 0.9841\n",
      "Epoch 12/20\n",
      "469/469 [==============================] - 5s 10ms/step - loss: 0.0179 - accuracy: 0.9941 - val_loss: 0.0741 - val_accuracy: 0.9844\n",
      "Epoch 13/20\n",
      "469/469 [==============================] - 5s 10ms/step - loss: 0.0167 - accuracy: 0.9948 - val_loss: 0.0803 - val_accuracy: 0.9826\n",
      "Epoch 14/20\n",
      "469/469 [==============================] - 5s 10ms/step - loss: 0.0163 - accuracy: 0.9949 - val_loss: 0.0682 - val_accuracy: 0.9849\n",
      "Epoch 15/20\n",
      "469/469 [==============================] - 5s 10ms/step - loss: 0.0140 - accuracy: 0.9953 - val_loss: 0.0811 - val_accuracy: 0.9831\n",
      "Epoch 16/20\n",
      "469/469 [==============================] - 5s 10ms/step - loss: 0.0128 - accuracy: 0.9959 - val_loss: 0.0776 - val_accuracy: 0.9837\n",
      "Epoch 17/20\n",
      "469/469 [==============================] - 5s 10ms/step - loss: 0.0111 - accuracy: 0.9966 - val_loss: 0.0832 - val_accuracy: 0.9840\n",
      "Epoch 18/20\n",
      "469/469 [==============================] - 5s 10ms/step - loss: 0.0114 - accuracy: 0.9963 - val_loss: 0.0811 - val_accuracy: 0.9849\n",
      "Epoch 19/20\n",
      "469/469 [==============================] - 5s 10ms/step - loss: 0.0111 - accuracy: 0.9963 - val_loss: 0.0789 - val_accuracy: 0.9838\n",
      "Epoch 20/20\n",
      "469/469 [==============================] - 5s 10ms/step - loss: 0.0113 - accuracy: 0.9963 - val_loss: 0.0863 - val_accuracy: 0.9841\n"
     ]
    }
   ],
   "source": [
    "#Train the model\n",
    "batch_size = 128 # batch_size argument is passed to the layer to define a batch size for the inputs.\n",
    "epochs = 20\n",
    "history = model.fit(x_train, y_train,\n",
    "                    batch_size=batch_size,\n",
    "                    epochs=epochs,\n",
    "                    verbose=1, # verbose=1 will show you an animated progress bar eg. [\t]\n",
    "                    validation_data=(x_test, y_test)) # Using validation_data means you are providing the training set and validation set # validation_split means you only provide a training set and keras splits it into '2\n"
   ]
  },
  {
   "cell_type": "code",
   "execution_count": 11,
   "id": "3406b3b2",
   "metadata": {},
   "outputs": [
    {
     "name": "stdout",
     "output_type": "stream",
     "text": [
      "Test loss: 0.08631588518619537\n",
      "Test accuracy: 0.9840999841690063\n"
     ]
    }
   ],
   "source": [
    "#Evaluate the model\n",
    "score = model.evaluate(x_test, y_test, verbose=0)\n",
    "print('Test loss:', score[0])\n",
    "print('Test accuracy:', score[1])\n"
   ]
  },
  {
   "cell_type": "code",
   "execution_count": null,
   "id": "c79bdcbd",
   "metadata": {},
   "outputs": [],
   "source": []
  }
 ],
 "metadata": {
  "kernelspec": {
   "display_name": "Python 3 (ipykernel)",
   "language": "python",
   "name": "python3"
  },
  "language_info": {
   "codemirror_mode": {
    "name": "ipython",
    "version": 3
   },
   "file_extension": ".py",
   "mimetype": "text/x-python",
   "name": "python",
   "nbconvert_exporter": "python",
   "pygments_lexer": "ipython3",
   "version": "3.11.3"
  }
 },
 "nbformat": 4,
 "nbformat_minor": 5
}
